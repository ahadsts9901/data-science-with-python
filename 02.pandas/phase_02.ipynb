{
 "cells": [
  {
   "cell_type": "markdown",
   "id": "e81984ec",
   "metadata": {},
   "source": [
    "# Import Libraries"
   ]
  },
  {
   "cell_type": "code",
   "execution_count": null,
   "id": "2472d1c1",
   "metadata": {},
   "outputs": [],
   "source": [
    "import numpy as np\n",
    "import pandas as pd"
   ]
  },
  {
   "cell_type": "markdown",
   "id": "dc567b7d",
   "metadata": {},
   "source": [
    "# Series and DataFrame"
   ]
  },
  {
   "cell_type": "code",
   "execution_count": null,
   "id": "08fb536f",
   "metadata": {},
   "outputs": [],
   "source": [
    "ser = pd.Series(np.random.rand(33))\n",
    "df = pd.DataFrame(np.random.rand(334,5), index=np.arange(334))\n",
    "head = df.head()\n",
    "_type = type(df)\n",
    "_describe = df.describe()"
   ]
  },
  {
   "cell_type": "markdown",
   "id": "67e9714c",
   "metadata": {},
   "source": [
    "# Modify Data"
   ]
  },
  {
   "cell_type": "code",
   "execution_count": null,
   "id": "55ad44da",
   "metadata": {},
   "outputs": [],
   "source": [
    "df[0][0] = \"mani\"\n",
    "_data_types = df.dtypes\n",
    "_head = df.head()\n",
    "_index = df.index\n",
    "columns = df.columns\n",
    "to_numpy_before = df.to_numpy()\n",
    "\n",
    "df[0][0] = 0.83\n",
    "to_numpy_after = df.to_numpy()"
   ]
  },
  {
   "cell_type": "markdown",
   "id": "fdc1d33b",
   "metadata": {},
   "source": [
    "# Transpose and Sort"
   ]
  },
  {
   "cell_type": "code",
   "execution_count": null,
   "id": "8ce4b3b9",
   "metadata": {},
   "outputs": [],
   "source": [
    "transposed = df.T\n",
    "desc_sorted = df.sort_index(axis=0, ascending=False)"
   ]
  },
  {
   "cell_type": "markdown",
   "id": "fb22a4de",
   "metadata": {},
   "source": [
    "# Column Rename and Value Update"
   ]
  },
  {
   "cell_type": "code",
   "execution_count": null,
   "id": "811db451",
   "metadata": {},
   "outputs": [],
   "source": [
    "df.columns = list(\"ABCDE\")\n",
    "df.loc[0, \"A\"] = 234"
   ]
  },
  {
   "cell_type": "markdown",
   "id": "77fdb4a7",
   "metadata": {},
   "source": [
    "# Data Selection"
   ]
  },
  {
   "cell_type": "code",
   "execution_count": null,
   "id": "66be21a4",
   "metadata": {},
   "outputs": [],
   "source": [
    "new_df = df.loc[[1,2], ['C', 'D']]\n",
    "all_rows = df.loc[:, ['C', 'D']]\n",
    "all_columns = df.loc[[1,2], :]\n",
    "query_data_frame = df.loc[(df['A']>0.3) & (df['C']>0.1)]\n",
    "specific_cell = df.iloc[0,4]\n",
    "specific_cells = df.iloc[[0,1], [1,2]]"
   ]
  },
  {
   "cell_type": "markdown",
   "id": "99a0e6b7",
   "metadata": {},
   "source": [
    "# Drop and Reset Index"
   ]
  },
  {
   "cell_type": "code",
   "execution_count": null,
   "id": "124f27e2",
   "metadata": {},
   "outputs": [],
   "source": [
    "df.drop(['A', 'C'], axis=1)\n",
    "df.drop([0, 5], axis=0)\n",
    "df.reset_index(drop=True, inplace=True)"
   ]
  },
  {
   "cell_type": "markdown",
   "id": "758b52c5",
   "metadata": {},
   "source": [
    "# Null Checks"
   ]
  },
  {
   "cell_type": "code",
   "execution_count": null,
   "id": "64312663",
   "metadata": {},
   "outputs": [
    {
     "ename": "",
     "evalue": "",
     "output_type": "error",
     "traceback": [
      "\u001b[1;31mRunning cells with 'Python 3.11.0' requires the ipykernel package.\n",
      "\u001b[1;31m<a href='command:jupyter.createPythonEnvAndSelectController'>Create a Python Environment</a> with the required packages.\n",
      "\u001b[1;31mOr install 'ipykernel' using the command: 'c:/Users/DELL/AppData/Local/Programs/Python/Python311/python.exe -m pip install ipykernel -U --user --force-reinstall'"
     ]
    }
   ],
   "source": [
    "df.loc[:, [\"B\"]] = 58\n",
    "is_null = df['B'].isnull()"
   ]
  },
  {
   "cell_type": "markdown",
   "id": "086b0f6c",
   "metadata": {},
   "source": [
    "# Final Output"
   ]
  },
  {
   "cell_type": "code",
   "execution_count": null,
   "id": "f9794282",
   "metadata": {},
   "outputs": [],
   "source": [
    "print(\"none df\", df)\n",
    "print(\"is_null\", is_null)"
   ]
  }
 ],
 "metadata": {
  "kernelspec": {
   "display_name": "Python 3",
   "language": "python",
   "name": "python3"
  },
  "language_info": {
   "name": "python",
   "version": "3.11.0"
  }
 },
 "nbformat": 4,
 "nbformat_minor": 5
}
