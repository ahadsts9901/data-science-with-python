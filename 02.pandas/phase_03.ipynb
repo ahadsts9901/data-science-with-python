{
 "cells": [
  {
   "cell_type": "markdown",
   "id": "52511dce",
   "metadata": {},
   "source": [
    "# Import Libraries"
   ]
  },
  {
   "cell_type": "code",
   "execution_count": null,
   "id": "5b0fd5c0",
   "metadata": {},
   "outputs": [],
   "source": [
    "import numpy as np\n",
    "import pandas as pd"
   ]
  },
  {
   "cell_type": "markdown",
   "id": "71241c68",
   "metadata": {},
   "source": [
    "# Data Cleaning"
   ]
  },
  {
   "cell_type": "code",
   "execution_count": null,
   "id": "ef90d02d",
   "metadata": {},
   "outputs": [],
   "source": [
    "df = pd.DataFrame({\n",
    "    \"name\": [\"babar\", \"babar\", \"zeeshan\"],\n",
    "    \"toy\": [np.nan, \"Bat\", \"Football\"],\n",
    "    \"born\": [pd.NaT, pd.Timestamp(\"2000-4-25\"), pd.NaT]\n",
    "})\n",
    "\n",
    "drop_na = df.dropna(how='all', axis=1)\n",
    "drop_duplicates = df.drop_duplicates(subset=[\"name\"], keep=\"last\")\n",
    "df_info = df.info()\n",
    "value_counts = df['name'].value_counts(dropna=True)\n",
    "not_null = df.notnull()"
   ]
  },
  {
   "cell_type": "markdown",
   "id": "de0e7918",
   "metadata": {},
   "source": [
    "# Exercise"
   ]
  },
  {
   "cell_type": "code",
   "execution_count": null,
   "id": "782bc84a",
   "metadata": {},
   "outputs": [],
   "source": [
    "data = np.array([[10, 5], [20, 15], [30, 25]])\n",
    "df = pd.DataFrame(data, columns=['A', 'B'])\n",
    "\n",
    "print(\"DataFrame:\")\n",
    "print(df)\n",
    "\n",
    "print(\"\\ndf.describe():\")\n",
    "print(df.describe())\n",
    "\n",
    "print(\"\\ndf.mean():\")\n",
    "print(df.mean())\n",
    "\n",
    "print(\"\\ndf.corr():\")\n",
    "print(df.corr())\n",
    "\n",
    "print(\"\\ndf.count():\")\n",
    "print(df.count())\n",
    "\n",
    "print(\"\\ndf.median():\")\n",
    "print(df.median())\n",
    "\n",
    "print(\"\\ndf.min():\")\n",
    "print(df.min())\n",
    "\n",
    "print(\"\\ndf.max():\")\n",
    "print(df.max())\n",
    "\n",
    "print(\"\\ndf.std():\")\n",
    "print(df.std())"
   ]
  }
 ],
 "metadata": {
  "language_info": {
   "name": "python"
  }
 },
 "nbformat": 4,
 "nbformat_minor": 5
}
