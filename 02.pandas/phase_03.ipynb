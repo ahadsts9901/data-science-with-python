{
 "cells": [
  {
   "cell_type": "markdown",
   "id": "52511dce",
   "metadata": {},
   "source": [
    "# Import Libraries"
   ]
  },
  {
   "cell_type": "code",
   "execution_count": 1,
   "id": "5b0fd5c0",
   "metadata": {},
   "outputs": [],
   "source": [
    "import numpy as np\n",
    "import pandas as pd"
   ]
  },
  {
   "cell_type": "markdown",
   "id": "71241c68",
   "metadata": {},
   "source": [
    "# Data Cleaning"
   ]
  },
  {
   "cell_type": "code",
   "execution_count": 2,
   "id": "ef90d02d",
   "metadata": {},
   "outputs": [
    {
     "data": {
      "text/html": [
       "<div>\n",
       "<style scoped>\n",
       "    .dataframe tbody tr th:only-of-type {\n",
       "        vertical-align: middle;\n",
       "    }\n",
       "\n",
       "    .dataframe tbody tr th {\n",
       "        vertical-align: top;\n",
       "    }\n",
       "\n",
       "    .dataframe thead th {\n",
       "        text-align: right;\n",
       "    }\n",
       "</style>\n",
       "<table border=\"1\" class=\"dataframe\">\n",
       "  <thead>\n",
       "    <tr style=\"text-align: right;\">\n",
       "      <th></th>\n",
       "      <th>name</th>\n",
       "      <th>toy</th>\n",
       "      <th>born</th>\n",
       "    </tr>\n",
       "  </thead>\n",
       "  <tbody>\n",
       "    <tr>\n",
       "      <th>0</th>\n",
       "      <td>babar</td>\n",
       "      <td>NaN</td>\n",
       "      <td>NaT</td>\n",
       "    </tr>\n",
       "    <tr>\n",
       "      <th>1</th>\n",
       "      <td>babar</td>\n",
       "      <td>Bat</td>\n",
       "      <td>2000-04-25</td>\n",
       "    </tr>\n",
       "    <tr>\n",
       "      <th>2</th>\n",
       "      <td>zeeshan</td>\n",
       "      <td>Football</td>\n",
       "      <td>NaT</td>\n",
       "    </tr>\n",
       "  </tbody>\n",
       "</table>\n",
       "</div>"
      ],
      "text/plain": [
       "      name       toy       born\n",
       "0    babar       NaN        NaT\n",
       "1    babar       Bat 2000-04-25\n",
       "2  zeeshan  Football        NaT"
      ]
     },
     "execution_count": 2,
     "metadata": {},
     "output_type": "execute_result"
    }
   ],
   "source": [
    "df = pd.DataFrame({\n",
    "    \"name\": [\"babar\", \"babar\", \"zeeshan\"],\n",
    "    \"toy\": [np.nan, \"Bat\", \"Football\"],\n",
    "    \"born\": [pd.NaT, pd.Timestamp(\"2000-4-25\"), pd.NaT]\n",
    "})\n",
    "df"
   ]
  },
  {
   "cell_type": "code",
   "execution_count": 3,
   "id": "1a19d067",
   "metadata": {},
   "outputs": [
    {
     "data": {
      "text/html": [
       "<div>\n",
       "<style scoped>\n",
       "    .dataframe tbody tr th:only-of-type {\n",
       "        vertical-align: middle;\n",
       "    }\n",
       "\n",
       "    .dataframe tbody tr th {\n",
       "        vertical-align: top;\n",
       "    }\n",
       "\n",
       "    .dataframe thead th {\n",
       "        text-align: right;\n",
       "    }\n",
       "</style>\n",
       "<table border=\"1\" class=\"dataframe\">\n",
       "  <thead>\n",
       "    <tr style=\"text-align: right;\">\n",
       "      <th></th>\n",
       "      <th>name</th>\n",
       "      <th>toy</th>\n",
       "      <th>born</th>\n",
       "    </tr>\n",
       "  </thead>\n",
       "  <tbody>\n",
       "    <tr>\n",
       "      <th>0</th>\n",
       "      <td>babar</td>\n",
       "      <td>NaN</td>\n",
       "      <td>NaT</td>\n",
       "    </tr>\n",
       "    <tr>\n",
       "      <th>1</th>\n",
       "      <td>babar</td>\n",
       "      <td>Bat</td>\n",
       "      <td>2000-04-25</td>\n",
       "    </tr>\n",
       "    <tr>\n",
       "      <th>2</th>\n",
       "      <td>zeeshan</td>\n",
       "      <td>Football</td>\n",
       "      <td>NaT</td>\n",
       "    </tr>\n",
       "  </tbody>\n",
       "</table>\n",
       "</div>"
      ],
      "text/plain": [
       "      name       toy       born\n",
       "0    babar       NaN        NaT\n",
       "1    babar       Bat 2000-04-25\n",
       "2  zeeshan  Football        NaT"
      ]
     },
     "execution_count": 3,
     "metadata": {},
     "output_type": "execute_result"
    }
   ],
   "source": [
    "\n",
    "drop_na = df.dropna(how='all', axis=1)\n",
    "drop_na"
   ]
  },
  {
   "cell_type": "code",
   "execution_count": 4,
   "id": "d1404d85",
   "metadata": {},
   "outputs": [
    {
     "data": {
      "text/html": [
       "<div>\n",
       "<style scoped>\n",
       "    .dataframe tbody tr th:only-of-type {\n",
       "        vertical-align: middle;\n",
       "    }\n",
       "\n",
       "    .dataframe tbody tr th {\n",
       "        vertical-align: top;\n",
       "    }\n",
       "\n",
       "    .dataframe thead th {\n",
       "        text-align: right;\n",
       "    }\n",
       "</style>\n",
       "<table border=\"1\" class=\"dataframe\">\n",
       "  <thead>\n",
       "    <tr style=\"text-align: right;\">\n",
       "      <th></th>\n",
       "      <th>name</th>\n",
       "      <th>toy</th>\n",
       "      <th>born</th>\n",
       "    </tr>\n",
       "  </thead>\n",
       "  <tbody>\n",
       "    <tr>\n",
       "      <th>1</th>\n",
       "      <td>babar</td>\n",
       "      <td>Bat</td>\n",
       "      <td>2000-04-25</td>\n",
       "    </tr>\n",
       "    <tr>\n",
       "      <th>2</th>\n",
       "      <td>zeeshan</td>\n",
       "      <td>Football</td>\n",
       "      <td>NaT</td>\n",
       "    </tr>\n",
       "  </tbody>\n",
       "</table>\n",
       "</div>"
      ],
      "text/plain": [
       "      name       toy       born\n",
       "1    babar       Bat 2000-04-25\n",
       "2  zeeshan  Football        NaT"
      ]
     },
     "execution_count": 4,
     "metadata": {},
     "output_type": "execute_result"
    }
   ],
   "source": [
    "\n",
    "drop_duplicates = df.drop_duplicates(subset=[\"name\"], keep=\"last\")\n",
    "drop_duplicates"
   ]
  },
  {
   "cell_type": "code",
   "execution_count": 5,
   "id": "d6c27397",
   "metadata": {},
   "outputs": [
    {
     "name": "stdout",
     "output_type": "stream",
     "text": [
      "<class 'pandas.core.frame.DataFrame'>\n",
      "RangeIndex: 3 entries, 0 to 2\n",
      "Data columns (total 3 columns):\n",
      " #   Column  Non-Null Count  Dtype         \n",
      "---  ------  --------------  -----         \n",
      " 0   name    3 non-null      object        \n",
      " 1   toy     2 non-null      object        \n",
      " 2   born    1 non-null      datetime64[ns]\n",
      "dtypes: datetime64[ns](1), object(2)\n",
      "memory usage: 204.0+ bytes\n"
     ]
    }
   ],
   "source": [
    "df_info = df.info()\n",
    "df_info"
   ]
  },
  {
   "cell_type": "code",
   "execution_count": 6,
   "id": "1093bbb8",
   "metadata": {},
   "outputs": [
    {
     "data": {
      "text/plain": [
       "name\n",
       "babar      2\n",
       "zeeshan    1\n",
       "Name: count, dtype: int64"
      ]
     },
     "execution_count": 6,
     "metadata": {},
     "output_type": "execute_result"
    }
   ],
   "source": [
    "\n",
    "value_counts = df['name'].value_counts(dropna=True)\n",
    "value_counts"
   ]
  },
  {
   "cell_type": "code",
   "execution_count": 7,
   "id": "6d89493f",
   "metadata": {},
   "outputs": [
    {
     "data": {
      "text/html": [
       "<div>\n",
       "<style scoped>\n",
       "    .dataframe tbody tr th:only-of-type {\n",
       "        vertical-align: middle;\n",
       "    }\n",
       "\n",
       "    .dataframe tbody tr th {\n",
       "        vertical-align: top;\n",
       "    }\n",
       "\n",
       "    .dataframe thead th {\n",
       "        text-align: right;\n",
       "    }\n",
       "</style>\n",
       "<table border=\"1\" class=\"dataframe\">\n",
       "  <thead>\n",
       "    <tr style=\"text-align: right;\">\n",
       "      <th></th>\n",
       "      <th>name</th>\n",
       "      <th>toy</th>\n",
       "      <th>born</th>\n",
       "    </tr>\n",
       "  </thead>\n",
       "  <tbody>\n",
       "    <tr>\n",
       "      <th>0</th>\n",
       "      <td>True</td>\n",
       "      <td>False</td>\n",
       "      <td>False</td>\n",
       "    </tr>\n",
       "    <tr>\n",
       "      <th>1</th>\n",
       "      <td>True</td>\n",
       "      <td>True</td>\n",
       "      <td>True</td>\n",
       "    </tr>\n",
       "    <tr>\n",
       "      <th>2</th>\n",
       "      <td>True</td>\n",
       "      <td>True</td>\n",
       "      <td>False</td>\n",
       "    </tr>\n",
       "  </tbody>\n",
       "</table>\n",
       "</div>"
      ],
      "text/plain": [
       "   name    toy   born\n",
       "0  True  False  False\n",
       "1  True   True   True\n",
       "2  True   True  False"
      ]
     },
     "execution_count": 7,
     "metadata": {},
     "output_type": "execute_result"
    }
   ],
   "source": [
    "not_null = df.notnull()\n",
    "not_null"
   ]
  },
  {
   "cell_type": "markdown",
   "id": "de0e7918",
   "metadata": {},
   "source": [
    "# Exercise"
   ]
  },
  {
   "cell_type": "code",
   "execution_count": 8,
   "id": "782bc84a",
   "metadata": {},
   "outputs": [
    {
     "name": "stdout",
     "output_type": "stream",
     "text": [
      "DataFrame:\n",
      "    A   B\n",
      "0  10   5\n",
      "1  20  15\n",
      "2  30  25\n",
      "\n",
      "df.describe():\n",
      "          A     B\n",
      "count   3.0   3.0\n",
      "mean   20.0  15.0\n",
      "std    10.0  10.0\n",
      "min    10.0   5.0\n",
      "25%    15.0  10.0\n",
      "50%    20.0  15.0\n",
      "75%    25.0  20.0\n",
      "max    30.0  25.0\n",
      "\n",
      "df.mean():\n",
      "A    20.0\n",
      "B    15.0\n",
      "dtype: float64\n",
      "\n",
      "df.corr():\n",
      "     A    B\n",
      "A  1.0  1.0\n",
      "B  1.0  1.0\n",
      "\n",
      "df.count():\n",
      "A    3\n",
      "B    3\n",
      "dtype: int64\n",
      "\n",
      "df.median():\n",
      "A    20.0\n",
      "B    15.0\n",
      "dtype: float64\n",
      "\n",
      "df.min():\n",
      "A    10\n",
      "B     5\n",
      "dtype: int64\n",
      "\n",
      "df.max():\n",
      "A    30\n",
      "B    25\n",
      "dtype: int64\n",
      "\n",
      "df.std():\n",
      "A    10.0\n",
      "B    10.0\n",
      "dtype: float64\n"
     ]
    }
   ],
   "source": [
    "data = np.array([[10, 5], [20, 15], [30, 25]])\n",
    "df = pd.DataFrame(data, columns=['A', 'B'])\n",
    "\n",
    "print(\"DataFrame:\")\n",
    "print(df)\n",
    "\n",
    "print(\"\\ndf.describe():\")\n",
    "print(df.describe())\n",
    "\n",
    "print(\"\\ndf.mean():\")\n",
    "print(df.mean())\n",
    "\n",
    "print(\"\\ndf.corr():\")\n",
    "print(df.corr())\n",
    "\n",
    "print(\"\\ndf.count():\")\n",
    "print(df.count())\n",
    "\n",
    "print(\"\\ndf.median():\")\n",
    "print(df.median())\n",
    "\n",
    "print(\"\\ndf.min():\")\n",
    "print(df.min())\n",
    "\n",
    "print(\"\\ndf.max():\")\n",
    "print(df.max())\n",
    "\n",
    "print(\"\\ndf.std():\")\n",
    "print(df.std())"
   ]
  },
  {
   "cell_type": "code",
   "execution_count": null,
   "id": "f7199256",
   "metadata": {},
   "outputs": [],
   "source": []
  }
 ],
 "metadata": {
  "kernelspec": {
   "display_name": "pandas (.venv)",
   "language": "python",
   "name": ".venv"
  },
  "language_info": {
   "codemirror_mode": {
    "name": "ipython",
    "version": 3
   },
   "file_extension": ".py",
   "mimetype": "text/x-python",
   "name": "python",
   "nbconvert_exporter": "python",
   "pygments_lexer": "ipython3",
   "version": "3.13.1"
  }
 },
 "nbformat": 4,
 "nbformat_minor": 5
}
