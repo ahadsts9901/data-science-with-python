{
 "cells": [
  {
   "cell_type": "markdown",
   "id": "be07ca73",
   "metadata": {},
   "source": [
    "# Read and Write Excel"
   ]
  },
  {
   "cell_type": "code",
   "execution_count": 2,
   "id": "3e2d2df4",
   "metadata": {},
   "outputs": [
    {
     "name": "stdout",
     "output_type": "stream",
     "text": [
      "  Unnamed: 0    _name  train_no     city\n",
      "0      shees    shees        83  karachi\n",
      "1          1  daniyal        67  sialkot\n",
      "2          2   kashan        90   gujrat\n",
      "3          3    aryan        55   lahore\n"
     ]
    },
    {
     "name": "stderr",
     "output_type": "stream",
     "text": [
      "C:\\Users\\DELL\\AppData\\Local\\Temp\\ipykernel_18584\\820918011.py:8: FutureWarning: Setting an item of incompatible dtype is deprecated and will raise an error in a future version of pandas. Value 'shees' has dtype incompatible with int64, please explicitly cast to a compatible dtype first.\n",
      "  data.iloc[0, 0] = \"shees\"\n"
     ]
    }
   ],
   "source": [
    "import numpy as np\n",
    "import pandas as pd\n",
    "\n",
    "# Read specific sheet\n",
    "data = pd.read_excel(\"data.xlsx\", sheet_name=\"sheet 2\")\n",
    "\n",
    "# Modify a value\n",
    "data.iloc[0, 0] = \"shees\"\n",
    "\n",
    "# Save back to same sheet without deleting others\n",
    "with pd.ExcelWriter(\"data.xlsx\", mode=\"a\", if_sheet_exists=\"replace\", engine=\"openpyxl\") as writer:\n",
    "    data.to_excel(writer, sheet_name=\"sheet 2\", index=False)\n",
    "\n",
    "print(data)"
   ]
  },
  {
   "cell_type": "code",
   "execution_count": null,
   "id": "23213dc7",
   "metadata": {},
   "outputs": [],
   "source": []
  }
 ],
 "metadata": {
  "kernelspec": {
   "display_name": "pandas (.venv)",
   "language": "python",
   "name": ".venv"
  },
  "language_info": {
   "codemirror_mode": {
    "name": "ipython",
    "version": 3
   },
   "file_extension": ".py",
   "mimetype": "text/x-python",
   "name": "python",
   "nbconvert_exporter": "python",
   "pygments_lexer": "ipython3",
   "version": "3.13.1"
  }
 },
 "nbformat": 4,
 "nbformat_minor": 5
}
