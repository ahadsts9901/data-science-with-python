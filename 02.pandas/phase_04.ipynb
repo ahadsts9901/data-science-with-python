{
 "cells": [
  {
   "cell_type": "markdown",
   "id": "be07ca73",
   "metadata": {},
   "source": [
    "# Read and Write Excel"
   ]
  },
  {
   "cell_type": "code",
   "execution_count": null,
   "id": "3e2d2df4",
   "metadata": {},
   "outputs": [],
   "source": [
    "import numpy as np\n",
    "import pandas as pd\n",
    "\n",
    "# Read specific sheet\n",
    "data = pd.read_excel(\"data.xlsx\", sheet_name=\"sheet 2\")\n",
    "\n",
    "# Modify a value\n",
    "data.iloc[0, 0] = \"shees\"\n",
    "\n",
    "# Save back to same sheet without deleting others\n",
    "with pd.ExcelWriter(\"data.xlsx\", mode=\"a\", if_sheet_exists=\"replace\", engine=\"openpyxl\") as writer:\n",
    "    data.to_excel(writer, sheet_name=\"sheet 2\", index=False)\n",
    "\n",
    "print(data)"
   ]
  }
 ],
 "metadata": {},
 "nbformat": 4,
 "nbformat_minor": 5
}
