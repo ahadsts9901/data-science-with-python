{
 "cells": [
  {
   "cell_type": "markdown",
   "id": "74ffbcb7",
   "metadata": {},
   "source": [
    "## Import Required Libraries"
   ]
  },
  {
   "cell_type": "code",
   "execution_count": null,
   "id": "bd772e63",
   "metadata": {},
   "outputs": [],
   "source": [
    "import numpy as np\n",
    "import pandas as pd"
   ]
  },
  {
   "cell_type": "markdown",
   "id": "6dc49e31",
   "metadata": {},
   "source": [
    "## Create a DataFrame from a Python Dictionary"
   ]
  },
  {
   "cell_type": "code",
   "execution_count": null,
   "id": "2efc2ba9",
   "metadata": {},
   "outputs": [],
   "source": [
    "dict_1 = {\n",
    "    'name': ['ahad', 'aryan', 'asif', 'aliyan'],\n",
    "    'marks': [83, 67, 34, 55],\n",
    "    'city': ['karachi', 'sialkot', 'gujrat', 'Islamabad']\n",
    "}\n",
    "\n",
    "df = pd.DataFrame(dict_1)\n",
    "print('DataFrame:\\n', df)"
   ]
  },
  {
   "cell_type": "markdown",
   "id": "0d4e123d",
   "metadata": {},
   "source": [
    "## Save DataFrame to CSV Files"
   ]
  },
  {
   "cell_type": "code",
   "execution_count": null,
   "id": "9d5deabd",
   "metadata": {},
   "outputs": [],
   "source": [
    "df.to_csv('friends.csv')\n",
    "df.to_csv('friends_without_index.csv', index=False)"
   ]
  },
  {
   "cell_type": "markdown",
   "id": "c81ce955",
   "metadata": {},
   "source": [
    "## Display First and Last Rows"
   ]
  },
  {
   "cell_type": "code",
   "execution_count": null,
   "id": "e5b63b06",
   "metadata": {},
   "outputs": [],
   "source": [
    "print('Head (first 2 rows):\\n', df.head(2))\n",
    "print('Tail (last 2 rows):\\n', df.tail(2))"
   ]
  },
  {
   "cell_type": "markdown",
   "id": "282853d2",
   "metadata": {},
   "source": [
    "## Get Summary Statistics"
   ]
  },
  {
   "cell_type": "code",
   "execution_count": null,
   "id": "ad406573",
   "metadata": {},
   "outputs": [],
   "source": [
    "print('Describe:\\n', df.describe())"
   ]
  },
  {
   "cell_type": "markdown",
   "id": "9f89b4b5",
   "metadata": {},
   "source": [
    "## Read Data from an Existing CSV File"
   ]
  },
  {
   "cell_type": "code",
   "execution_count": null,
   "id": "041b5596",
   "metadata": {},
   "outputs": [],
   "source": [
    "_csv = pd.read_csv('mani.csv')\n",
    "print('CSV Loaded:\\n', _csv)"
   ]
  },
  {
   "cell_type": "markdown",
   "id": "3e325e38",
   "metadata": {},
   "source": [
    "## Modify Data in DataFrame"
   ]
  },
  {
   "cell_type": "code",
   "execution_count": null,
   "id": "cfda0dec",
   "metadata": {},
   "outputs": [],
   "source": [
    "_csv['city'][0] = 'new_york'\n",
    "_csv.to_csv('mani2.csv', index=False)\n",
    "\n",
    "# Update index labels\n",
    "_csv.index = ['one', 'two', 'three', 'four']\n",
    "print('Modified DataFrame:\\n', _csv)"
   ]
  }
 ],
 "metadata": {
  "language_info": {
   "name": "python"
  }
 },
 "nbformat": 4,
 "nbformat_minor": 5
}
