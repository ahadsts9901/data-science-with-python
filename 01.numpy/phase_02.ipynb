{
 "cells": [
  {
   "cell_type": "markdown",
   "id": "d3db4658",
   "metadata": {},
   "source": [
    "# Import Libraries"
   ]
  },
  {
   "cell_type": "code",
   "execution_count": 3,
   "id": "6557b3bb",
   "metadata": {},
   "outputs": [],
   "source": [
    "# Import NumPy\n",
    "import numpy as np"
   ]
  },
  {
   "cell_type": "markdown",
   "id": "3adec682",
   "metadata": {},
   "source": [
    "# Numpy Array Slicing & Indexing"
   ]
  },
  {
   "cell_type": "code",
   "execution_count": 4,
   "id": "e0e58eaa",
   "metadata": {},
   "outputs": [
    {
     "data": {
      "text/plain": [
       "array([2, 3, 4])"
      ]
     },
     "execution_count": 4,
     "metadata": {},
     "output_type": "execute_result"
    }
   ],
   "source": [
    "# 1D Array Slicing and Indexing\n",
    "arr = np.array([1, 2, 3, 4, 5, 6, 7, 8, 9, 0])\n",
    "arr[1:4]"
   ]
  },
  {
   "cell_type": "code",
   "execution_count": 5,
   "id": "e3e7cdcb",
   "metadata": {},
   "outputs": [
    {
     "data": {
      "text/plain": [
       "array([2, 4, 6, 8])"
      ]
     },
     "execution_count": 5,
     "metadata": {},
     "output_type": "execute_result"
    }
   ],
   "source": [
    "arr[1:8:2]\n"
   ]
  },
  {
   "cell_type": "code",
   "execution_count": 6,
   "id": "31989f4b",
   "metadata": {},
   "outputs": [
    {
     "data": {
      "text/plain": [
       "np.int64(8)"
      ]
     },
     "execution_count": 6,
     "metadata": {},
     "output_type": "execute_result"
    }
   ],
   "source": [
    "arr[-3]"
   ]
  },
  {
   "cell_type": "code",
   "execution_count": 7,
   "id": "f1945d30",
   "metadata": {},
   "outputs": [
    {
     "data": {
      "text/plain": [
       "array([[4, 5, 6]])"
      ]
     },
     "execution_count": 7,
     "metadata": {},
     "output_type": "execute_result"
    }
   ],
   "source": [
    "# 2D Array Indexing\n",
    "_2d_array = np.array([\n",
    "    [1, 2, 3],\n",
    "    [4, 5, 6],\n",
    "    [7, 8, 9]\n",
    "])\n",
    "_2d_array[1:2]"
   ]
  },
  {
   "cell_type": "code",
   "execution_count": 8,
   "id": "fde35191",
   "metadata": {},
   "outputs": [
    {
     "data": {
      "text/plain": [
       "np.int64(6)"
      ]
     },
     "execution_count": 8,
     "metadata": {},
     "output_type": "execute_result"
    }
   ],
   "source": [
    "\n",
    "_2d_array[1, 2]"
   ]
  },
  {
   "cell_type": "code",
   "execution_count": 9,
   "id": "1ed59018",
   "metadata": {},
   "outputs": [
    {
     "data": {
      "text/plain": [
       "array([4, 5, 6])"
      ]
     },
     "execution_count": 9,
     "metadata": {},
     "output_type": "execute_result"
    }
   ],
   "source": [
    "\n",
    "_2d_array[1]"
   ]
  },
  {
   "cell_type": "code",
   "execution_count": 10,
   "id": "f1fd9ab3",
   "metadata": {},
   "outputs": [
    {
     "data": {
      "text/plain": [
       "array([1, 4, 7])"
      ]
     },
     "execution_count": 10,
     "metadata": {},
     "output_type": "execute_result"
    }
   ],
   "source": [
    "\n",
    "_2d_array[:, 0]"
   ]
  },
  {
   "cell_type": "markdown",
   "id": "865b537d",
   "metadata": {},
   "source": [
    "# Sorting"
   ]
  },
  {
   "cell_type": "code",
   "execution_count": 11,
   "id": "2248fd7f",
   "metadata": {},
   "outputs": [
    {
     "data": {
      "text/plain": [
       "array([1, 1, 2, 3, 4, 4, 5, 5, 7, 7, 9])"
      ]
     },
     "execution_count": 11,
     "metadata": {},
     "output_type": "execute_result"
    }
   ],
   "source": [
    "# Sorting Arrays\n",
    "unsorted = np.array([1, 5, 7, 3, 9, 4, 1, 7, 2, 4, 5])\n",
    "np.sort(unsorted)"
   ]
  },
  {
   "cell_type": "code",
   "execution_count": 12,
   "id": "d7dc2dbc",
   "metadata": {},
   "outputs": [
    {
     "data": {
      "text/plain": [
       "array([[1, 1],\n",
       "       [2, 3],\n",
       "       [3, 4]])"
      ]
     },
     "execution_count": 12,
     "metadata": {},
     "output_type": "execute_result"
    }
   ],
   "source": [
    "arr_2d_unsorted = np.array([\n",
    "    [3, 1],\n",
    "    [1, 4],\n",
    "    [2, 3]\n",
    "])\n",
    "np.sort(arr_2d_unsorted, axis=0)"
   ]
  },
  {
   "cell_type": "markdown",
   "id": "6366f921",
   "metadata": {},
   "source": [
    "# Filtering"
   ]
  },
  {
   "cell_type": "code",
   "execution_count": 13,
   "id": "50eea2e6",
   "metadata": {},
   "outputs": [
    {
     "data": {
      "text/plain": [
       "array([ 2,  4,  6,  8, 10])"
      ]
     },
     "execution_count": 13,
     "metadata": {},
     "output_type": "execute_result"
    }
   ],
   "source": [
    "# Filtering Arrays\n",
    "_numbers = np.array([1, 2, 3, 4, 5, 6, 7, 8, 9, 10])\n",
    "_numbers[_numbers % 2 == 0]"
   ]
  },
  {
   "cell_type": "code",
   "execution_count": 14,
   "id": "c23222c3",
   "metadata": {},
   "outputs": [
    {
     "data": {
      "text/plain": [
       "array([ 6,  7,  8,  9, 10])"
      ]
     },
     "execution_count": 14,
     "metadata": {},
     "output_type": "execute_result"
    }
   ],
   "source": [
    "# Filter with mask\n",
    "mask = _numbers > 5\n",
    "_numbers[mask]"
   ]
  },
  {
   "cell_type": "markdown",
   "id": "6b2b6036",
   "metadata": {},
   "source": [
    "# np.where()"
   ]
  },
  {
   "cell_type": "code",
   "execution_count": 15,
   "id": "fa4358b3",
   "metadata": {},
   "outputs": [
    {
     "data": {
      "text/plain": [
       "array([2, 3, 5])"
      ]
     },
     "execution_count": 15,
     "metadata": {},
     "output_type": "execute_result"
    }
   ],
   "source": [
    "# Fancy Indexing vs np.where()\n",
    "indices = [1, 2, 4]\n",
    "_numbers[indices]"
   ]
  },
  {
   "cell_type": "code",
   "execution_count": 18,
   "id": "fd2fe9d7",
   "metadata": {},
   "outputs": [
    {
     "data": {
      "text/plain": [
       "(array([5, 6, 7, 8, 9]),)"
      ]
     },
     "execution_count": 18,
     "metadata": {},
     "output_type": "execute_result"
    }
   ],
   "source": [
    "where_result = np.where(_numbers > 5)\n",
    "where_result"
   ]
  },
  {
   "cell_type": "code",
   "execution_count": 20,
   "id": "37cc1bfe",
   "metadata": {},
   "outputs": [
    {
     "data": {
      "text/plain": [
       "array([ 6,  7,  8,  9, 10])"
      ]
     },
     "execution_count": 20,
     "metadata": {},
     "output_type": "execute_result"
    }
   ],
   "source": [
    "_numbers[where_result]"
   ]
  },
  {
   "cell_type": "code",
   "execution_count": 21,
   "id": "26083480",
   "metadata": {},
   "outputs": [
    {
     "data": {
      "text/plain": [
       "array([ 1,  2,  3,  4,  5, 12, 14, 16, 18, 20])"
      ]
     },
     "execution_count": 21,
     "metadata": {},
     "output_type": "execute_result"
    }
   ],
   "source": [
    "# Conditional Assignment using np.where\n",
    "condition_arr = np.where(_numbers > 5, _numbers * 2, _numbers)\n",
    "condition_arr"
   ]
  },
  {
   "cell_type": "markdown",
   "id": "d1aada8a",
   "metadata": {},
   "source": [
    "# Adding and Concatenating Arrays"
   ]
  },
  {
   "cell_type": "code",
   "execution_count": 22,
   "id": "7272cdd8",
   "metadata": {},
   "outputs": [
    {
     "data": {
      "text/plain": [
       "array([5, 7, 9])"
      ]
     },
     "execution_count": 22,
     "metadata": {},
     "output_type": "execute_result"
    }
   ],
   "source": [
    "# Adding and Concatenating Arrays\n",
    "\n",
    "arr_1 = np.array([1, 2, 3])\n",
    "arr_2 = np.array([4, 5, 6])\n",
    "combined_arr = arr_1 + arr_2\n",
    "combined_arr"
   ]
  },
  {
   "cell_type": "code",
   "execution_count": 24,
   "id": "d5262b08",
   "metadata": {},
   "outputs": [
    {
     "data": {
      "text/plain": [
       "array([1, 2, 3, 4, 5, 6])"
      ]
     },
     "execution_count": 24,
     "metadata": {},
     "output_type": "execute_result"
    }
   ],
   "source": [
    "\n",
    "concatenated_arr = np.concatenate((arr_1, arr_2))\n",
    "concatenated_arr"
   ]
  },
  {
   "cell_type": "markdown",
   "id": "33c98349",
   "metadata": {},
   "source": [
    "# Rows & Columns"
   ]
  },
  {
   "cell_type": "code",
   "execution_count": 25,
   "id": "c7078e8e",
   "metadata": {},
   "outputs": [
    {
     "data": {
      "text/plain": [
       "False"
      ]
     },
     "execution_count": 25,
     "metadata": {},
     "output_type": "execute_result"
    }
   ],
   "source": [
    "# Array Compatibility\n",
    "a = np.array([1, 2, 3])\n",
    "b = np.array([4, 5, 6, 7])\n",
    "c = np.array([7, 8, 9])\n",
    "a.shape == b.shape\n"
   ]
  },
  {
   "cell_type": "code",
   "execution_count": 27,
   "id": "3bdcc244",
   "metadata": {},
   "outputs": [
    {
     "data": {
      "text/plain": [
       "array([[1, 2],\n",
       "       [7, 8]])"
      ]
     },
     "execution_count": 27,
     "metadata": {},
     "output_type": "execute_result"
    }
   ],
   "source": [
    "# Adding new row\n",
    "original = np.array([[1, 2], [7, 8]])\n",
    "original"
   ]
  },
  {
   "cell_type": "code",
   "execution_count": 28,
   "id": "76ae02a8",
   "metadata": {},
   "outputs": [
    {
     "data": {
      "text/plain": [
       "array([[1, 2],\n",
       "       [7, 8],\n",
       "       [5, 6]])"
      ]
     },
     "execution_count": 28,
     "metadata": {},
     "output_type": "execute_result"
    }
   ],
   "source": [
    "\n",
    "new_row = np.array([[5, 6]])\n",
    "with_new_row = np.vstack((original, new_row))\n",
    "with_new_row"
   ]
  },
  {
   "cell_type": "code",
   "execution_count": 29,
   "id": "abb3fdd4",
   "metadata": {},
   "outputs": [
    {
     "data": {
      "text/plain": [
       "array([[ 1,  2, 16],\n",
       "       [ 7,  8, 17]])"
      ]
     },
     "execution_count": 29,
     "metadata": {},
     "output_type": "execute_result"
    }
   ],
   "source": [
    "# Adding new column\n",
    "new_col = np.array([[16], [17]])\n",
    "with_new_col = np.hstack((original, new_col))\n",
    "with_new_col"
   ]
  },
  {
   "cell_type": "markdown",
   "id": "dcbf7c93",
   "metadata": {},
   "source": [
    "# Deleting Elements"
   ]
  },
  {
   "cell_type": "code",
   "execution_count": 30,
   "id": "de3eadde",
   "metadata": {},
   "outputs": [
    {
     "data": {
      "text/plain": [
       "array([1, 2, 3, 4, 5])"
      ]
     },
     "execution_count": 30,
     "metadata": {},
     "output_type": "execute_result"
    }
   ],
   "source": [
    "# Deleting Elements\n",
    "new_arr = np.array([1, 2, 3, 4, 5])\n",
    "new_arr"
   ]
  },
  {
   "cell_type": "code",
   "execution_count": 31,
   "id": "daaae91f",
   "metadata": {},
   "outputs": [
    {
     "data": {
      "text/plain": [
       "array([1, 2, 4, 5])"
      ]
     },
     "execution_count": 31,
     "metadata": {},
     "output_type": "execute_result"
    }
   ],
   "source": [
    "\n",
    "deleted = np.delete(new_arr, 2)\n",
    "deleted"
   ]
  },
  {
   "cell_type": "code",
   "execution_count": null,
   "id": "dd9956d0",
   "metadata": {},
   "outputs": [],
   "source": []
  }
 ],
 "metadata": {
  "kernelspec": {
   "display_name": "numpy (.venv)",
   "language": "python",
   "name": ".venv"
  },
  "language_info": {
   "codemirror_mode": {
    "name": "ipython",
    "version": 3
   },
   "file_extension": ".py",
   "mimetype": "text/x-python",
   "name": "python",
   "nbconvert_exporter": "python",
   "pygments_lexer": "ipython3",
   "version": "3.13.1"
  }
 },
 "nbformat": 4,
 "nbformat_minor": 5
}
