{
 "cells": [
  {
   "cell_type": "markdown",
   "id": "d3db4658",
   "metadata": {},
   "source": [
    "# Import Libraries"
   ]
  },
  {
   "cell_type": "code",
   "execution_count": null,
   "id": "6557b3bb",
   "metadata": {},
   "outputs": [],
   "source": [
    "# Import NumPy\n",
    "import numpy as np"
   ]
  },
  {
   "cell_type": "markdown",
   "id": "3adec682",
   "metadata": {},
   "source": [
    "# Numpu Array Slicing & Indexing"
   ]
  },
  {
   "cell_type": "code",
   "execution_count": null,
   "id": "e0e58eaa",
   "metadata": {},
   "outputs": [],
   "source": [
    "# 1D Array Slicing and Indexing\n",
    "arr = np.array([1, 2, 3, 4, 5, 6, 7, 8, 9, 0])\n",
    "print(\"basic slicing\", arr[1:4])\n",
    "print(\"with step\", arr[1:8:2])\n",
    "print(\"negative indexing\", arr[-3])"
   ]
  },
  {
   "cell_type": "code",
   "execution_count": null,
   "id": "f1945d30",
   "metadata": {},
   "outputs": [],
   "source": [
    "# 2D Array Indexing\n",
    "_2d_array = np.array([\n",
    "    [1, 2, 3],\n",
    "    [4, 5, 6],\n",
    "    [7, 8, 9]\n",
    "])\n",
    "print(\"2d_arr specific index\", _2d_array[1:2])\n",
    "print(\"2d_arr specific element\", _2d_array[1, 2])\n",
    "print(\"2d_arr entire row\", _2d_array[1])\n",
    "print(\"2d_arr entire column\", _2d_array[:, 0])"
   ]
  },
  {
   "cell_type": "markdown",
   "id": "865b537d",
   "metadata": {},
   "source": [
    "# Sorting"
   ]
  },
  {
   "cell_type": "code",
   "execution_count": null,
   "id": "2248fd7f",
   "metadata": {},
   "outputs": [],
   "source": [
    "# Sorting Arrays\n",
    "unsorted = np.array([1, 5, 7, 3, 9, 4, 1, 7, 2, 4, 5])\n",
    "print(\"sorted np array\", np.sort(unsorted))\n",
    "\n",
    "arr_2d_unsorted = np.array([\n",
    "    [3, 1],\n",
    "    [1, 4],\n",
    "    [2, 3]\n",
    "])\n",
    "print(\"sorted 2d array\", np.sort(arr_2d_unsorted, axis=0))"
   ]
  },
  {
   "cell_type": "markdown",
   "id": "6366f921",
   "metadata": {},
   "source": [
    "# Filtering"
   ]
  },
  {
   "cell_type": "code",
   "execution_count": null,
   "id": "50eea2e6",
   "metadata": {},
   "outputs": [],
   "source": [
    "# Filtering Arrays\n",
    "_numbers = np.array([1, 2, 3, 4, 5, 6, 7, 8, 9, 10])\n",
    "even_numbers = _numbers[_numbers % 2 == 0]\n",
    "print(\"even_numbers\", even_numbers)\n",
    "\n",
    "# Filter with mask\n",
    "mask = _numbers > 5\n",
    "print(\"mask\", _numbers[mask])"
   ]
  },
  {
   "cell_type": "markdown",
   "id": "6b2b6036",
   "metadata": {},
   "source": [
    "# np.where()"
   ]
  },
  {
   "cell_type": "code",
   "execution_count": null,
   "id": "fa4358b3",
   "metadata": {},
   "outputs": [],
   "source": [
    "# Fancy Indexing vs np.where()\n",
    "indices = [1, 2, 4]\n",
    "print(\"indices\", _numbers[indices])\n",
    "\n",
    "where_result = np.where(_numbers > 5)\n",
    "print(\"where result\", where_result)\n",
    "print(\"np where\", _numbers[where_result])"
   ]
  },
  {
   "cell_type": "code",
   "execution_count": null,
   "id": "26083480",
   "metadata": {},
   "outputs": [],
   "source": [
    "# Conditional Assignment using np.where\n",
    "condition_arr = np.where(_numbers > 5, _numbers * 2, _numbers)\n",
    "print(\"condition_arr\", condition_arr)"
   ]
  },
  {
   "cell_type": "markdown",
   "id": "d1aada8a",
   "metadata": {},
   "source": [
    "# Adding and Concatenating Arrays"
   ]
  },
  {
   "cell_type": "code",
   "execution_count": null,
   "id": "7272cdd8",
   "metadata": {},
   "outputs": [],
   "source": [
    "# Adding and Concatenating Arrays\n",
    "\n",
    "arr_1 = np.array([1, 2, 3])\n",
    "arr_2 = np.array([4, 5, 6])\n",
    "combined_arr = arr_1 + arr_2\n",
    "print(\"combined_arr\", combined_arr)\n",
    "\n",
    "concatenated_arr = np.concatenate((arr_1, arr_2))\n",
    "print(\"concatenated_arr\", concatenated_arr)"
   ]
  },
  {
   "cell_type": "markdown",
   "id": "33c98349",
   "metadata": {},
   "source": [
    "# Rows & Columns"
   ]
  },
  {
   "cell_type": "code",
   "execution_count": null,
   "id": "c7078e8e",
   "metadata": {},
   "outputs": [],
   "source": [
    "# Array Compatibility\n",
    "a = np.array([1, 2, 3])\n",
    "b = np.array([4, 5, 6, 7])\n",
    "c = np.array([7, 8, 9])\n",
    "print(\"compatibility shape\", a.shape == b.shape)\n",
    "\n",
    "# Adding new row\n",
    "original = np.array([[1, 2], [7, 8]])\n",
    "print(\"original\", original)\n",
    "new_row = np.array([[5, 6]])\n",
    "with_new_row = np.vstack((original, new_row))\n",
    "print(\"with_new_row\", with_new_row)\n",
    "\n",
    "# Adding new column\n",
    "new_col = np.array([[16], [17]])\n",
    "with_new_col = np.hstack((original, new_col))\n",
    "print(\"with_new_col\", with_new_col)"
   ]
  },
  {
   "cell_type": "markdown",
   "id": "dcbf7c93",
   "metadata": {},
   "source": [
    "# Deleting Elements"
   ]
  },
  {
   "cell_type": "code",
   "execution_count": null,
   "id": "de3eadde",
   "metadata": {},
   "outputs": [],
   "source": [
    "# Deleting Elements\n",
    "new_arr = np.array([1, 2, 3, 4, 5])\n",
    "print(\"before_deletion\", new_arr)\n",
    "deleted = np.delete(new_arr, 2)\n",
    "print(\"after_deletion\", deleted)"
   ]
  }
 ],
 "metadata": {
  "language_info": {
   "name": "python"
  }
 },
 "nbformat": 4,
 "nbformat_minor": 5
}
