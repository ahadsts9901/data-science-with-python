{
 "cells": [
  {
   "cell_type": "markdown",
   "id": "27f761a1",
   "metadata": {},
   "source": [
    "# Import Libraries"
   ]
  },
  {
   "cell_type": "code",
   "execution_count": null,
   "id": "6f5b8068",
   "metadata": {},
   "outputs": [],
   "source": [
    "import numpy as np"
   ]
  },
  {
   "cell_type": "markdown",
   "id": "271de6a0",
   "metadata": {},
   "source": [
    "# Creating Arrays"
   ]
  },
  {
   "cell_type": "code",
   "execution_count": null,
   "id": "a1e43de9",
   "metadata": {},
   "outputs": [],
   "source": [
    "# Creating a 1D NumPy array\n",
    "print(np.array([1, 5, 6]))\n",
    "\n",
    "# Creating a 2D NumPy array (matrix)\n",
    "print(np.array([[1, 2, 3], [4, 5, 6]]))"
   ]
  },
  {
   "cell_type": "markdown",
   "id": "10dc59ae",
   "metadata": {},
   "source": [
    "# Multiplication"
   ]
  },
  {
   "cell_type": "code",
   "execution_count": null,
   "id": "7149b643",
   "metadata": {},
   "outputs": [],
   "source": [
    "# Python list multiplication (concatenation)\n",
    "py_list = [1, 2, 3]\n",
    "print(\"list multiplication\", py_list * 2)\n",
    "\n",
    "# NumPy array multiplication (element-wise)\n",
    "np_arr = np.array([1, 2, 3])\n",
    "print(\"np array multiplication\", np_arr * 2)"
   ]
  },
  {
   "cell_type": "markdown",
   "id": "12107107",
   "metadata": {},
   "source": [
    "# Python List vs Numpy Array"
   ]
  },
  {
   "cell_type": "code",
   "execution_count": null,
   "id": "5b96bc76",
   "metadata": {},
   "outputs": [],
   "source": [
    "import time\n",
    "\n",
    "# Time taken for list comprehension\n",
    "start = time.time()\n",
    "py_list = [i * 2 for i in range(100000)]\n",
    "print(\"list operation time\", time.time() - start)\n",
    "\n",
    "# Time taken using NumPy vectorized operation\n",
    "start = time.time()\n",
    "np_array = np.arange(100000 * 2)\n",
    "print(\"np array operation time\", time.time() - start)"
   ]
  },
  {
   "cell_type": "markdown",
   "id": "73b4fe8b",
   "metadata": {},
   "source": [
    "# Creating Numpy Arrays"
   ]
  },
  {
   "cell_type": "code",
   "execution_count": null,
   "id": "8970cf51",
   "metadata": {},
   "outputs": [],
   "source": [
    "# Creating a 3x4 array filled with zeros\n",
    "zeros = np.zeros((3, 4))\n",
    "print(\"zeros arr\", zeros)\n",
    "\n",
    "# Creating a 6x9 array filled with ones\n",
    "ones = np.ones((6, 9))\n",
    "print(\"ones arr\", ones)\n",
    "\n",
    "# Creating a 4x5 array filled with the value 5\n",
    "full = np.full((4, 5), 5)\n",
    "print(\"full arr\", full)\n",
    "\n",
    "# Creating a 4x6 array with random values\n",
    "random = np.random.random((4, 6))\n",
    "print(\"random arr\", random)\n",
    "\n",
    "# Creating a sequence from 1 to 101 with step 4\n",
    "sequence = np.arange(1, 102, 4)\n",
    "print(\"sequence arr\", sequence)"
   ]
  },
  {
   "cell_type": "markdown",
   "id": "221b2fad",
   "metadata": {},
   "source": [
    "# Vector, Matrix & Tensor"
   ]
  },
  {
   "cell_type": "code",
   "execution_count": null,
   "id": "0954f0bd",
   "metadata": {},
   "outputs": [],
   "source": [
    "# Creating a vector (1D array)\n",
    "vector = np.array([1, 2, 3])\n",
    "print(\"vector\", vector)\n",
    "\n",
    "# Creating a matrix (2D array)\n",
    "matrix = np.array([\n",
    "    [1, 2, 3],\n",
    "    [4, 5, 6],\n",
    "    [7, 8, 9]\n",
    "])\n",
    "print(\"matrix\", matrix)\n",
    "\n",
    "# Creating a tensor (3D array - list of matrices)\n",
    "tensor = [\n",
    "    [[11, 12, 13], [14, 15, 16], [17, 18, 19]],\n",
    "    [[21, 22, 23], [24, 25, 26], [27, 28, 29]],\n",
    "    [[31, 32, 33], [34, 35, 36], [37, 38, 39]]\n",
    "]\n",
    "print(\"tensor\", tensor)"
   ]
  },
  {
   "cell_type": "markdown",
   "id": "5cae5f56",
   "metadata": {},
   "source": [
    "# Numpy Array Properties"
   ]
  },
  {
   "cell_type": "code",
   "execution_count": null,
   "id": "1256da10",
   "metadata": {},
   "outputs": [],
   "source": [
    "arr = np.array([\n",
    "    [1, 2, 3],\n",
    "    [4, 5, 6]\n",
    "])\n",
    "\n",
    "print(\"arr\", arr)\n",
    "print(\"shape:\", arr.shape)\n",
    "print(\"dimension:\", arr.ndim)\n",
    "print(\"size:\", arr.size)\n",
    "print(\"data_type:\", arr.dtype)"
   ]
  },
  {
   "cell_type": "markdown",
   "id": "41f8a6f9",
   "metadata": {},
   "source": [
    "# Numpy Array Properties & Methods"
   ]
  },
  {
   "cell_type": "code",
   "execution_count": null,
   "id": "331a760e",
   "metadata": {},
   "outputs": [],
   "source": [
    "# Creating a 1D array of 12 elements\n",
    "arr = np.arange(12)\n",
    "print(\"original arr\", arr)\n",
    "\n",
    "# Reshaping to 4x3\n",
    "reshaped = arr.reshape((4, 3))\n",
    "print(\"reshaped arr\", reshaped)\n",
    "\n",
    "# Flattening the reshaped array (returns a copy)\n",
    "flattened = reshaped.flatten()\n",
    "print(\"flattened arr\", flattened)\n",
    "\n",
    "# Raveling the array (returns a view if possible)\n",
    "raveled = reshaped.ravel()\n",
    "print(\"raveled arr\", raveled)\n",
    "\n",
    "# Transposing the reshaped array\n",
    "transposed = reshaped.T\n",
    "print(\"transposed arr\", transposed)"
   ]
  }
 ],
 "metadata": {
  "language_info": {
   "name": "python"
  }
 },
 "nbformat": 4,
 "nbformat_minor": 5
}
