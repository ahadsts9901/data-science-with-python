{
 "cells": [
  {
   "cell_type": "markdown",
   "id": "7d47e9f3",
   "metadata": {},
   "source": [
    "# Import Required Libraries"
   ]
  },
  {
   "cell_type": "code",
   "execution_count": null,
   "id": "8261f4cf",
   "metadata": {},
   "outputs": [],
   "source": [
    "import numpy as np\n",
    "import matplotlib.pyplot as plt"
   ]
  },
  {
   "cell_type": "markdown",
   "id": "1dc97c77",
   "metadata": {},
   "source": [
    "## Create NumPy Arrays"
   ]
  },
  {
   "cell_type": "code",
   "execution_count": null,
   "id": "a34ada04",
   "metadata": {},
   "outputs": [],
   "source": [
    "arr_1 = np.array([[1,2,3],[4,5,6]])\n",
    "arr_2 = np.random.rand(3,3)\n",
    "arr_3 = np.zeros((4,4))\n",
    "arr_1, arr_2, arr_3"
   ]
  },
  {
   "cell_type": "markdown",
   "id": "56dad44c",
   "metadata": {},
   "source": [
    "## Save Arrays to `.npy` Files"
   ]
  },
  {
   "cell_type": "code",
   "execution_count": null,
   "id": "ffe9d158",
   "metadata": {},
   "outputs": [],
   "source": [
    "np.save('array1.npy', arr_1)\n",
    "np.save('array2.npy', arr_2)\n",
    "np.save('array3.npy', arr_3)"
   ]
  },
  {
   "cell_type": "markdown",
   "id": "623b4281",
   "metadata": {},
   "source": [
    "## Load Arrays from `.npy` Files"
   ]
  },
  {
   "cell_type": "code",
   "execution_count": null,
   "id": "3c136c50",
   "metadata": {},
   "outputs": [],
   "source": [
    "loaded_arr_1 = np.load('array1.npy')\n",
    "loaded_arr_2 = np.load('array2.npy')\n",
    "loaded_arr_3 = np.load('array3.npy')\n",
    "\n",
    "print('loaded_arr_1:', loaded_arr_1)\n",
    "print('loaded_arr_2:', loaded_arr_2)\n",
    "print('loaded_arr_3:', loaded_arr_3)"
   ]
  },
  {
   "cell_type": "markdown",
   "id": "67cdc8f6",
   "metadata": {},
   "source": [
    "## Load and Display an Image using NumPy and Matplotlib"
   ]
  },
  {
   "cell_type": "code",
   "execution_count": null,
   "id": "36b7d200",
   "metadata": {},
   "outputs": [],
   "source": [
    "try:\n",
    "    logo = np.load('numpy-logo.npy')\n",
    "\n",
    "    plt.figure(figsize=(10,5))\n",
    "    plt.subplot(121)\n",
    "    plt.imshow(logo)\n",
    "    plt.title('NumPy Logo')\n",
    "    plt.grid(False)\n",
    "    plt.show()\n",
    "\n",
    "    # Create and display dark version of the logo\n",
    "    dark_logo = 1 - logo\n",
    "    plt.subplot(122)\n",
    "    plt.imshow(dark_logo)\n",
    "    plt.title('Dark NumPy Logo')\n",
    "    plt.grid(False)\n",
    "    plt.show()\n",
    "\n",
    "except FileNotFoundError:\n",
    "    print('Logo file not found')"
   ]
  }
 ],
 "metadata": {
  "language_info": {
   "name": "python"
  }
 },
 "nbformat": 4,
 "nbformat_minor": 5
}
