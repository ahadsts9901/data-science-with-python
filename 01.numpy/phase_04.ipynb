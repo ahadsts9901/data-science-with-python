{
 "cells": [
  {
   "cell_type": "markdown",
   "id": "7d47e9f3",
   "metadata": {},
   "source": [
    "# Import Required Libraries"
   ]
  },
  {
   "cell_type": "code",
   "execution_count": 2,
   "id": "8261f4cf",
   "metadata": {},
   "outputs": [],
   "source": [
    "import numpy as np\n",
    "import matplotlib.pyplot as plt"
   ]
  },
  {
   "cell_type": "markdown",
   "id": "1dc97c77",
   "metadata": {},
   "source": [
    "## Create NumPy Arrays"
   ]
  },
  {
   "cell_type": "code",
   "execution_count": 3,
   "id": "a34ada04",
   "metadata": {},
   "outputs": [
    {
     "data": {
      "text/plain": [
       "(array([[1, 2, 3],\n",
       "        [4, 5, 6]]),\n",
       " array([[0.01020253, 0.0331712 , 0.56535933],\n",
       "        [0.43755193, 0.14223047, 0.20262205],\n",
       "        [0.89946611, 0.1277846 , 0.46706281]]),\n",
       " array([[0., 0., 0., 0.],\n",
       "        [0., 0., 0., 0.],\n",
       "        [0., 0., 0., 0.],\n",
       "        [0., 0., 0., 0.]]))"
      ]
     },
     "execution_count": 3,
     "metadata": {},
     "output_type": "execute_result"
    }
   ],
   "source": [
    "arr_1 = np.array([[1,2,3],[4,5,6]])\n",
    "arr_2 = np.random.rand(3,3)\n",
    "arr_3 = np.zeros((4,4))\n",
    "arr_1, arr_2, arr_3"
   ]
  },
  {
   "cell_type": "markdown",
   "id": "56dad44c",
   "metadata": {},
   "source": [
    "## Save Arrays to `.npy` Files"
   ]
  },
  {
   "cell_type": "code",
   "execution_count": 4,
   "id": "ffe9d158",
   "metadata": {},
   "outputs": [],
   "source": [
    "np.save('array1.npy', arr_1)\n",
    "np.save('array2.npy', arr_2)\n",
    "np.save('array3.npy', arr_3)"
   ]
  },
  {
   "cell_type": "markdown",
   "id": "623b4281",
   "metadata": {},
   "source": [
    "## Load Arrays from `.npy` Files"
   ]
  },
  {
   "cell_type": "code",
   "execution_count": 5,
   "id": "3c136c50",
   "metadata": {},
   "outputs": [
    {
     "name": "stdout",
     "output_type": "stream",
     "text": [
      "loaded_arr_1: [[1 2 3]\n",
      " [4 5 6]]\n",
      "loaded_arr_2: [[0.01020253 0.0331712  0.56535933]\n",
      " [0.43755193 0.14223047 0.20262205]\n",
      " [0.89946611 0.1277846  0.46706281]]\n",
      "loaded_arr_3: [[0. 0. 0. 0.]\n",
      " [0. 0. 0. 0.]\n",
      " [0. 0. 0. 0.]\n",
      " [0. 0. 0. 0.]]\n"
     ]
    }
   ],
   "source": [
    "loaded_arr_1 = np.load('array1.npy')\n",
    "loaded_arr_2 = np.load('array2.npy')\n",
    "loaded_arr_3 = np.load('array3.npy')\n",
    "\n",
    "print('loaded_arr_1:', loaded_arr_1)\n",
    "print('loaded_arr_2:', loaded_arr_2)\n",
    "print('loaded_arr_3:', loaded_arr_3)"
   ]
  },
  {
   "cell_type": "markdown",
   "id": "67cdc8f6",
   "metadata": {},
   "source": [
    "## Load and Display an Image using NumPy and Matplotlib"
   ]
  },
  {
   "cell_type": "code",
   "execution_count": 8,
   "id": "36b7d200",
   "metadata": {},
   "outputs": [
    {
     "data": {
      "image/png": "[encoded data removed]",
      "text/plain": [
       "<Figure size 1000x500 with 1 Axes>"
      ]
     },
     "metadata": {},
     "output_type": "display_data"
    },
    {
     "data": {
      "image/png": "[encoded data removed]",
      "text/plain": [
       "<Figure size 640x480 with 1 Axes>"
      ]
     },
     "metadata": {},
     "output_type": "display_data"
    }
   ],
   "source": [
    "try:\n",
    "    # logo = np.load('numpy-logo.npy')\n",
    "    logo = np.load('array2.npy')\n",
    "\n",
    "    plt.figure(figsize=(10,5))\n",
    "    plt.subplot(121)\n",
    "    plt.imshow(logo)\n",
    "    plt.title('Array output')\n",
    "    plt.grid(False)\n",
    "    plt.show()\n",
    "\n",
    "    # Create and display dark version of the logo\n",
    "    dark_logo = 1 - logo\n",
    "    plt.subplot(122)\n",
    "    plt.imshow(dark_logo)\n",
    "    plt.title('Inverted Array output')\n",
    "    plt.grid(False)\n",
    "    plt.show()\n",
    "\n",
    "except FileNotFoundError:\n",
    "    print('Logo file not found')"
   ]
  },
  {
   "cell_type": "code",
   "execution_count": null,
   "id": "f4c9344f",
   "metadata": {},
   "outputs": [],
   "source": []
  }
 ],
 "metadata": {
  "kernelspec": {
   "display_name": "numpy (.venv)",
   "language": "python",
   "name": ".venv"
  },
  "language_info": {
   "codemirror_mode": {
    "name": "ipython",
    "version": 3
   },
   "file_extension": ".py",
   "mimetype": "text/x-python",
   "name": "python",
   "nbconvert_exporter": "python",
   "pygments_lexer": "ipython3",
   "version": "3.13.1"
  }
 },
 "nbformat": 4,
 "nbformat_minor": 5
}
