{
 "cells": [
  {
   "cell_type": "markdown",
   "id": "4496f421",
   "metadata": {},
   "source": [
    "# Import libraries"
   ]
  },
  {
   "cell_type": "code",
   "execution_count": null,
   "id": "971e8caa",
   "metadata": {},
   "outputs": [],
   "source": [
    "import numpy as np\n",
    "import matplotlib.pyplot as plt"
   ]
  },
  {
   "cell_type": "markdown",
   "id": "dc86b90b",
   "metadata": {},
   "source": [
    "# Creating Data Structure"
   ]
  },
  {
   "cell_type": "code",
   "execution_count": null,
   "id": "22f30339",
   "metadata": {},
   "outputs": [],
   "source": [
    "# Data Structure: [id, 2021, 2022, 2023, 2024]\n",
    "data_structure = np.array([\n",
    "    [1, 150000,180000,220000,250000],  # paradise biryani\n",
    "    [2, 120000,140000,160000,190000],  # beijing bites\n",
    "    [3, 200000,230000,260000,300000],  # pizza hub\n",
    "    [4, 180000,210000,240000,270000],  # burger point\n",
    "    [5, 160000,185000,205000,230000],  # chai point\n",
    "])\n",
    "\n",
    "print(\"=========== zomato sales analysis =========\")\n",
    "print(\"data shape\", data_structure.shape)\n",
    "print(\"first 3 restaurants\", data_structure[0:3])"
   ]
  },
  {
   "cell_type": "markdown",
   "id": "bf9fa8be",
   "metadata": {},
   "source": [
    "# Total Sales Per Year"
   ]
  },
  {
   "cell_type": "code",
   "execution_count": null,
   "id": "cc9ee8dd",
   "metadata": {},
   "outputs": [],
   "source": [
    "# Total Sales Per Year\n",
    "print(\"total sales per year\", np.sum(data_structure, axis=0))\n",
    "yearly_total = np.sum(data_structure[:, 1:], axis=0)\n",
    "print(\"yearly total\", yearly_total)"
   ]
  },
  {
   "cell_type": "markdown",
   "id": "a0583350",
   "metadata": {},
   "source": [
    "# Min, Max, and Average Sales"
   ]
  },
  {
   "cell_type": "code",
   "execution_count": null,
   "id": "51360fba",
   "metadata": {},
   "outputs": [],
   "source": [
    "# Min, Max, and Average Sales\n",
    "min_sales = np.min(data_structure[:, 1:], axis=1)\n",
    "print(\"min_sales\", min_sales)\n",
    "\n",
    "max_sales = np.max(data_structure[:, 1:], axis=0)\n",
    "print(\"max_sales\", max_sales)\n",
    "\n",
    "avg_sales = np.mean(data_structure[:, 1:], axis=1)\n",
    "print(\"avg_sales\", avg_sales)"
   ]
  },
  {
   "cell_type": "markdown",
   "id": "4f95ebcd",
   "metadata": {},
   "source": [
    "# Cumulative Sales and Visualization"
   ]
  },
  {
   "cell_type": "code",
   "execution_count": null,
   "id": "f87ca8aa",
   "metadata": {},
   "outputs": [],
   "source": [
    "# Cumulative Sales and Visualization\n",
    "cum_sum = np.cumsum(data_structure[:, 1:], axis=1)\n",
    "print(\"cum_sum\", cum_sum)\n",
    "\n",
    "plt.figure(figsize=(10,6))\n",
    "plt.plot(np.mean(cum_sum, axis=0))\n",
    "plt.title(\"Cumulative Sales Across All Restaurants\")\n",
    "plt.xlabel(\"Years\")\n",
    "plt.ylabel(\"Sales\")\n",
    "plt.grid(True)\n",
    "# plt.show()"
   ]
  },
  {
   "cell_type": "markdown",
   "id": "76990384",
   "metadata": {},
   "source": [
    "# Vector Operations"
   ]
  },
  {
   "cell_type": "code",
   "execution_count": null,
   "id": "56716968",
   "metadata": {},
   "outputs": [],
   "source": [
    "# Vector Operations\n",
    "vector_1 = np.array([1, 2, 3, 4, 5])\n",
    "vector_2 = np.array([6, 7, 8, 9, 10])\n",
    "\n",
    "print(\"vector addition\", vector_1 + vector_2)\n",
    "print(\"vector multiplication\", vector_1 * vector_2)\n",
    "print(\"dot product\", np.dot(vector_1, vector_2))\n",
    "\n",
    "angle = np.arccos(np.dot(vector_1, vector_2) / (np.linalg.norm(vector_1) * np.linalg.norm(vector_2)))\n",
    "print(\"angle\", angle)"
   ]
  },
  {
   "cell_type": "markdown",
   "id": "8c575efe",
   "metadata": {},
   "source": [
    "# Vectorized String Operations"
   ]
  },
  {
   "cell_type": "code",
   "execution_count": null,
   "id": "ecb83a95",
   "metadata": {},
   "outputs": [],
   "source": [
    "# Vectorized String Operations\n",
    "restaurant_types = np.array([\n",
    "    \"boryani\",\n",
    "    \"chinese\",\n",
    "    \"pizza\",\n",
    "    \"burger\",\n",
    "    \"cafe\"\n",
    "])\n",
    "\n",
    "vectorized_upper = np.vectorize(str.upper)\n",
    "print(\"vectorized_upper\", vectorized_upper(restaurant_types))"
   ]
  },
  {
   "cell_type": "markdown",
   "id": "c5666c09",
   "metadata": {},
   "source": [
    "# Broadcasting"
   ]
  },
  {
   "cell_type": "code",
   "execution_count": null,
   "id": "91eae598",
   "metadata": {},
   "outputs": [],
   "source": [
    "# Broadcasting: Monthly Average Sales\n",
    "monthly_avg = data_structure[:, 1:] / 12\n",
    "print(\"monthly_avg\", monthly_avg)"
   ]
  }
 ],
 "metadata": {
  "language_info": {
   "name": "python"
  }
 },
 "nbformat": 4,
 "nbformat_minor": 5
}
